{
 "cells": [
  {
   "cell_type": "code",
   "execution_count": 1,
   "metadata": {},
   "outputs": [],
   "source": [
    "import os\n",
    "import sqlite3\n",
    "import pandas as pd\n",
    "\n",
    "from langchain_openai import ChatOpenAI \n",
    "from langchain_community.utilities import SQLDatabase\n",
    "from langchain.agents import create_sql_agent\n",
    "from langchain_community.agent_toolkits import SQLDatabaseToolkit\n",
    "from langchain.agents.agent_types import AgentType\n",
    "from langchain.sql_database import SQLDatabase"
   ]
  },
  {
   "cell_type": "code",
   "execution_count": 3,
   "metadata": {},
   "outputs": [],
   "source": [
    "key_file='../openai_api_key.txt'\n",
    "\n",
    "with open(key_file, 'r') as file:\n",
    "    openai_api_key=file.read()\n",
    "os.environ[\"OPENAI_API_KEY\"] = openai_api_key"
   ]
  },
  {
   "cell_type": "code",
   "execution_count": 4,
   "metadata": {},
   "outputs": [
    {
     "name": "stderr",
     "output_type": "stream",
     "text": [
      "/home/acrnjar/miniconda3/lib/python3.9/site-packages/langchain_community/agent_toolkits/sql/base.py:138: UserWarning: Received additional kwargs {'handle_parsing_errors': True, 'return_intermediate_steps': False} which are no longer supported.\n",
      "  warnings.warn(\n"
     ]
    }
   ],
   "source": [
    "inpname='./test_dataset.csv'\n",
    "df=pd.read_csv(inpname,sep=';')\n",
    "\n",
    "dbname='custom.db' \n",
    "connection = sqlite3.connect(dbname)\n",
    "tablename='CustomTable' \n",
    "df.to_sql(tablename, connection, if_exists='replace')\n",
    "db = SQLDatabase.from_uri('sqlite:///'+dbname)\n",
    "\n",
    "verbose=True\n",
    "\n",
    "llm = ChatOpenAI(model_name=\"gpt-3.5-turbo-1106\")\n",
    "\n",
    "agent_executor = create_sql_agent(\n",
    "    llm=llm,\n",
    "    toolkit=SQLDatabaseToolkit(db=db, llm=llm),\n",
    "    agent_type=AgentType.ZERO_SHOT_REACT_DESCRIPTION,\n",
    "    handle_parsing_errors=True,\n",
    "    verbose=verbose,\n",
    "    return_intermediate_steps=False\n",
    ")"
   ]
  },
  {
   "cell_type": "code",
   "execution_count": 8,
   "metadata": {},
   "outputs": [
    {
     "name": "stdout",
     "output_type": "stream",
     "text": [
      "\n",
      "\n",
      "\u001b[1m> Entering new SQL Agent Executor chain...\u001b[0m\n",
      "\u001b[32;1m\u001b[1;3mI need to find the average age of teachers who are married, so I should first check the tables available in the database and then write a SQL query to retrieve the required data.\n",
      "Action: sql_db_list_tables\n",
      "Action Input: \u001b[0m\u001b[38;5;200m\u001b[1;3mCustomTable\u001b[0m\u001b[32;1m\u001b[1;3mI need to check the schema of the CustomTable to see if it contains the necessary information about teachers and their marital status.\n",
      "Action: sql_db_schema\n",
      "Action Input: CustomTable\u001b[0m\u001b[33;1m\u001b[1;3m\n",
      "CREATE TABLE \"CustomTable\" (\n",
      "\t\"index\" INTEGER, \n",
      "\t\"Unnamed: 0\" INTEGER, \n",
      "\t\"Age\" INTEGER, \n",
      "\t\"Married_YES\" INTEGER, \n",
      "\t\"Married_NO\" INTEGER, \n",
      "\t\"Occupation\" TEXT\n",
      ")\n",
      "\n",
      "/*\n",
      "3 rows from CustomTable table:\n",
      "index\tUnnamed: 0\tAge\tMarried_YES\tMarried_NO\tOccupation\n",
      "0\t0\t22\t0\t1\tTeacher\n",
      "1\t1\t43\t0\t1\tPhysician\n",
      "2\t2\t37\t1\t0\tTeacher\n",
      "*/\u001b[0m\u001b[32;1m\u001b[1;3mI need to write a SQL query to calculate the average age of teachers who are married.\n",
      "Action: sql_db_query\n",
      "Action Input: SELECT AVG(Age) FROM CustomTable WHERE Occupation = 'Teacher' AND Married_YES = 1\u001b[0m\u001b[36;1m\u001b[1;3m[(33.0,)]\u001b[0m\u001b[32;1m\u001b[1;3mI now know the final answer\n",
      "Final Answer: The average age of teachers that are married is 33 years old.\u001b[0m\n",
      "\n",
      "\u001b[1m> Finished chain.\u001b[0m\n"
     ]
    }
   ],
   "source": [
    "for user_inquiry in [\n",
    "        \"What is the average age of teachers that are married?\",\n",
    "        ]:\n",
    "    answer=agent_executor.invoke(user_inquiry, verbose=verbose)\n",
    "    #print(answer['output'])\n"
   ]
  }
 ],
 "metadata": {
  "kernelspec": {
   "display_name": "base",
   "language": "python",
   "name": "python3"
  },
  "language_info": {
   "codemirror_mode": {
    "name": "ipython",
    "version": 3
   },
   "file_extension": ".py",
   "mimetype": "text/x-python",
   "name": "python",
   "nbconvert_exporter": "python",
   "pygments_lexer": "ipython3",
   "version": "3.9.12"
  }
 },
 "nbformat": 4,
 "nbformat_minor": 2
}
